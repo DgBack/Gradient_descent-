{
  "nbformat": 4,
  "nbformat_minor": 0,
  "metadata": {
    "colab": {
      "name": "Untitled1.ipynb",
      "provenance": [],
      "authorship_tag": "ABX9TyMkXKf2Cmn3rIU1vEwaTePh",
      "include_colab_link": true
    },
    "kernelspec": {
      "name": "python3",
      "display_name": "Python 3"
    },
    "language_info": {
      "name": "python"
    }
  },
  "cells": [
    {
      "cell_type": "markdown",
      "metadata": {
        "id": "view-in-github",
        "colab_type": "text"
      },
      "source": [
        "<a href=\"https://colab.research.google.com/github/DgBack/Gradient_descent-/blob/main/Gradient_descent.ipynb\" target=\"_parent\"><img src=\"https://colab.research.google.com/assets/colab-badge.svg\" alt=\"Open In Colab\"/></a>"
      ]
    },
    {
      "cell_type": "code",
      "execution_count": 1,
      "metadata": {
        "colab": {
          "base_uri": "https://localhost:8080/",
          "height": 269
        },
        "id": "Bpw_8d0q91PC",
        "outputId": "0434f4b6-02a5-44e2-89a1-cbc2c047bcd7"
      },
      "outputs": [
        {
          "output_type": "display_data",
          "data": {
            "text/plain": [
              "<Figure size 432x288 with 1 Axes>"
            ],
            "image/png": "[encoded data removed]"
          },
          "metadata": {
            "needs_background": "light"
          }
        }
      ],
      "source": [
        "import numpy as np\n",
        "import matplotlib \n",
        "import matplotlib.pyplot as plt\n",
        "from sklearn import linear_model\n",
        "\n",
        "def cost(x):\n",
        "\tm = A.shape[0]\n",
        "\treturn 0.5/m * np.linalb.norm(A.dot(x) - b, 2)**2\n",
        "\n",
        "def grad(x):\n",
        "\tm = A.shape[0]\n",
        "\treturn 1/m * A.T.dot(A.dot(x)-b)\n",
        "\n",
        "def gradient_descent(x_init, learning_rate, iteration):\n",
        "\tx_list = [x_init]\n",
        "\n",
        "\tfor i in range(iteration):\n",
        "\t\tx_new = x_list[-1] - learning_rate*grad(x_list[-1])\n",
        "\t\tx_list.append(x_new)\n",
        "\n",
        "\treturn x_list\n",
        "\n",
        "# Data\n",
        "A = np.array([[2,9,7,9,11,16,25,23,22,29,29,35,37,40,46]]).T\n",
        "b = np.array([[2,3,4,5,6,7,8,9,10,11,12,13,14,15,16]]).T\n",
        "\n",
        "# Draw data\n",
        "fig1 = plt.figure(\"GD for Linear Regression\")\n",
        "ax = plt.axes(xlim=(-10,60), ylim=(-1,20)) \n",
        "plt.plot(A,b, 'ro')\n",
        "\n",
        "# Line created by linear regression formular\n",
        "lr = linear_model.LinearRegression()\n",
        "lr.fit(A,b)\n",
        "x0_gd = np.linspace(1,46,2)\n",
        "y0_sklearn = lr.intercept_[0] + lr.coef_[0][0]*x0_gd\n",
        "plt.plot(x0_gd,y0_sklearn, color=\"green\")\n",
        "\n",
        "# Add one to A\n",
        "ones = np.ones((A.shape[0],1), dtype=np.int8)\n",
        "A = np.concatenate((ones,A), axis=1)"
      ]
    }
  ]
}